{
  "nbformat": 4,
  "nbformat_minor": 0,
  "metadata": {
    "colab": {
      "provenance": [],
      "gpuType": "T4",
      "cell_execution_strategy": "setup"
    },
    "kernelspec": {
      "name": "python3",
      "display_name": "Python 3"
    },
    "language_info": {
      "name": "python"
    },
    "accelerator": "GPU"
  },
  "cells": [
    {
      "cell_type": "markdown",
      "source": [
        "89% accuracy with data agumentation on https://www.kaggle.com/datasets/mohammadhossein77/brain-tumors-dataset"
      ],
      "metadata": {
        "id": "zSeLqQ9eVoo6"
      }
    },
    {
      "cell_type": "code",
      "source": [
        "!pip install opendatasets\n",
        "!pip install pandas"
      ],
      "metadata": {
        "colab": {
          "base_uri": "https://localhost:8080/"
        },
        "id": "0oPNQk2exBR0",
        "outputId": "a6f13942-ff86-4a74-cbc1-5897148cbe24"
      },
      "execution_count": 1,
      "outputs": [
        {
          "output_type": "stream",
          "name": "stdout",
          "text": [
            "Collecting opendatasets\n",
            "  Downloading opendatasets-0.1.22-py3-none-any.whl (15 kB)\n",
            "Requirement already satisfied: tqdm in /usr/local/lib/python3.10/dist-packages (from opendatasets) (4.65.0)\n",
            "Requirement already satisfied: kaggle in /usr/local/lib/python3.10/dist-packages (from opendatasets) (1.5.15)\n",
            "Requirement already satisfied: click in /usr/local/lib/python3.10/dist-packages (from opendatasets) (8.1.4)\n",
            "Requirement already satisfied: six>=1.10 in /usr/local/lib/python3.10/dist-packages (from kaggle->opendatasets) (1.16.0)\n",
            "Requirement already satisfied: certifi in /usr/local/lib/python3.10/dist-packages (from kaggle->opendatasets) (2023.5.7)\n",
            "Requirement already satisfied: python-dateutil in /usr/local/lib/python3.10/dist-packages (from kaggle->opendatasets) (2.8.2)\n",
            "Requirement already satisfied: requests in /usr/local/lib/python3.10/dist-packages (from kaggle->opendatasets) (2.27.1)\n",
            "Requirement already satisfied: python-slugify in /usr/local/lib/python3.10/dist-packages (from kaggle->opendatasets) (8.0.1)\n",
            "Requirement already satisfied: urllib3 in /usr/local/lib/python3.10/dist-packages (from kaggle->opendatasets) (1.26.16)\n",
            "Requirement already satisfied: bleach in /usr/local/lib/python3.10/dist-packages (from kaggle->opendatasets) (6.0.0)\n",
            "Requirement already satisfied: webencodings in /usr/local/lib/python3.10/dist-packages (from bleach->kaggle->opendatasets) (0.5.1)\n",
            "Requirement already satisfied: text-unidecode>=1.3 in /usr/local/lib/python3.10/dist-packages (from python-slugify->kaggle->opendatasets) (1.3)\n",
            "Requirement already satisfied: charset-normalizer~=2.0.0 in /usr/local/lib/python3.10/dist-packages (from requests->kaggle->opendatasets) (2.0.12)\n",
            "Requirement already satisfied: idna<4,>=2.5 in /usr/local/lib/python3.10/dist-packages (from requests->kaggle->opendatasets) (3.4)\n",
            "Installing collected packages: opendatasets\n",
            "Successfully installed opendatasets-0.1.22\n",
            "Requirement already satisfied: pandas in /usr/local/lib/python3.10/dist-packages (1.5.3)\n",
            "Requirement already satisfied: python-dateutil>=2.8.1 in /usr/local/lib/python3.10/dist-packages (from pandas) (2.8.2)\n",
            "Requirement already satisfied: pytz>=2020.1 in /usr/local/lib/python3.10/dist-packages (from pandas) (2022.7.1)\n",
            "Requirement already satisfied: numpy>=1.21.0 in /usr/local/lib/python3.10/dist-packages (from pandas) (1.22.4)\n",
            "Requirement already satisfied: six>=1.5 in /usr/local/lib/python3.10/dist-packages (from python-dateutil>=2.8.1->pandas) (1.16.0)\n"
          ]
        }
      ]
    },
    {
      "cell_type": "code",
      "source": [
        "import opendatasets as od"
      ],
      "metadata": {
        "id": "9MZw2vbgxC4r"
      },
      "execution_count": 2,
      "outputs": []
    },
    {
      "cell_type": "code",
      "source": [
        "od.download(\"https://www.kaggle.com/datasets/mohammadhossein77/brain-tumors-dataset\")"
      ],
      "metadata": {
        "colab": {
          "base_uri": "https://localhost:8080/"
        },
        "id": "dXoGr4VWxYpO",
        "outputId": "d3ebe435-ed80-4d5f-d9c5-44c7db641c93"
      },
      "execution_count": 3,
      "outputs": [
        {
          "output_type": "stream",
          "name": "stdout",
          "text": [
            "Downloading brain-tumors-dataset.zip to ./brain-tumors-dataset\n"
          ]
        },
        {
          "output_type": "stream",
          "name": "stderr",
          "text": [
            "100%|██████████| 199M/199M [00:09<00:00, 20.9MB/s]\n"
          ]
        },
        {
          "output_type": "stream",
          "name": "stdout",
          "text": [
            "\n"
          ]
        }
      ]
    },
    {
      "cell_type": "code",
      "source": [
        "import os\n",
        "import shutil\n",
        "from sklearn.model_selection import train_test_split"
      ],
      "metadata": {
        "id": "xTVKFgKE40iE"
      },
      "execution_count": 4,
      "outputs": []
    },
    {
      "cell_type": "code",
      "source": [
        "dataset_path = '/content/brain-tumors-dataset/Data'\n",
        "normal_folder = os.path.join(dataset_path, 'Normal')\n",
        "tumor_folder = os.path.join(dataset_path, 'Tumor')\n",
        "pituitary_folder = os.path.join(tumor_folder, 'pituitary_tumor')\n",
        "glioma_folder = os.path.join(tumor_folder, 'glioma_tumor')\n",
        "meningioma_folder = os.path.join(tumor_folder, 'meningioma_tumor')\n"
      ],
      "metadata": {
        "id": "vzBMXgEY41fk"
      },
      "execution_count": 5,
      "outputs": []
    },
    {
      "cell_type": "code",
      "source": [
        "train_path = '/content/train'\n",
        "test_path = '/content/test'\n",
        "\n",
        "os.makedirs(train_path, exist_ok=True)\n",
        "os.makedirs(test_path, exist_ok=True)\n"
      ],
      "metadata": {
        "id": "gbLNh8Kt4_kO"
      },
      "execution_count": 6,
      "outputs": []
    },
    {
      "cell_type": "code",
      "source": [
        "normal_files = os.listdir(normal_folder)\n",
        "normal_train, normal_test = train_test_split(normal_files, test_size=0.2, random_state=42)\n",
        "os.makedirs(os.path.join(train_path, 'Normal'), exist_ok=True)\n",
        "os.makedirs(os.path.join(test_path, 'Normal'), exist_ok=True)\n",
        "\n",
        "for file_name in normal_train:\n",
        "    src = os.path.join(normal_folder, file_name)\n",
        "    dst = os.path.join(train_path, 'Normal', file_name)\n",
        "    shutil.copy(src, dst)\n",
        "\n",
        "for file_name in normal_test:\n",
        "    src = os.path.join(normal_folder, file_name)\n",
        "    dst = os.path.join(test_path, 'Normal', file_name)\n",
        "    shutil.copy(src, dst)\n"
      ],
      "metadata": {
        "id": "Twgzk6tm5GFX"
      },
      "execution_count": 7,
      "outputs": []
    },
    {
      "cell_type": "code",
      "source": [
        "def split_tumor_folder(tumor_folder, train_path, test_path):\n",
        "    tumor_files = os.listdir(tumor_folder)\n",
        "    tumor_train, tumor_test = train_test_split(tumor_files, test_size=0.2, random_state=42)\n",
        "\n",
        "    tumor_train_path = os.path.join(train_path, os.path.basename(tumor_folder))\n",
        "    tumor_test_path = os.path.join(test_path, os.path.basename(tumor_folder))\n",
        "    os.makedirs(tumor_train_path, exist_ok=True)\n",
        "    os.makedirs(tumor_test_path, exist_ok=True)\n",
        "\n",
        "    for file_name in tumor_train:\n",
        "        src = os.path.join(tumor_folder, file_name)\n",
        "        dst = os.path.join(tumor_train_path, file_name)\n",
        "        shutil.copy(src, dst)\n",
        "\n",
        "    for file_name in tumor_test:\n",
        "        src = os.path.join(tumor_folder, file_name)\n",
        "        dst = os.path.join(tumor_test_path, file_name)\n",
        "        shutil.copy(src, dst)\n",
        "\n",
        "split_tumor_folder(pituitary_folder, train_path, test_path)\n",
        "split_tumor_folder(glioma_folder, train_path, test_path)\n",
        "split_tumor_folder(meningioma_folder, train_path, test_path)\n"
      ],
      "metadata": {
        "id": "1AKTxDJr5PTA"
      },
      "execution_count": 8,
      "outputs": []
    },
    {
      "cell_type": "code",
      "source": [
        "import tensorflow as tf\n",
        "from keras import layers\n",
        "\n",
        "\n",
        "model = tf.keras.Sequential([\n",
        "    layers.Conv2D(32, (3, 3), activation='relu', input_shape=(224,224,3)),\n",
        "    layers.MaxPooling2D((2, 2)),\n",
        "    layers.Conv2D(64, (3, 3), activation='relu'),\n",
        "    layers.Flatten(),\n",
        "    layers.Dense(64, activation='relu'),\n",
        "    layers.Dense(1, activation='sigmoid')\n",
        "])\n",
        "\n",
        "\n",
        "model.compile(optimizer='adam',\n",
        "              loss='binary_crossentropy',\n",
        "              metrics=['accuracy'])\n",
        "\n",
        "\n",
        "# Prepare the dataset\n",
        "train_ds = tf.keras.preprocessing.image_dataset_from_directory(\n",
        "    train_path,\n",
        "    image_size=(224,224),\n",
        "    batch_size=32\n",
        ")\n",
        "\n",
        "test_ds = tf.keras.preprocessing.image_dataset_from_directory(\n",
        "    test_path,\n",
        "    image_size=(224,224),\n",
        "    batch_size=32\n",
        ")\n"
      ],
      "metadata": {
        "colab": {
          "base_uri": "https://localhost:8080/"
        },
        "id": "W5GvQb2L64tt",
        "outputId": "b26fe51a-fcbc-4d2a-d526-c38e6c6856bc"
      },
      "execution_count": 29,
      "outputs": [
        {
          "output_type": "stream",
          "name": "stdout",
          "text": [
            "Found 15264 files belonging to 4 classes.\n",
            "Found 3819 files belonging to 4 classes.\n"
          ]
        }
      ]
    },
    {
      "cell_type": "code",
      "source": [
        "model.fit(train_ds, validation_data=test_ds, epochs=4)"
      ],
      "metadata": {
        "colab": {
          "base_uri": "https://localhost:8080/"
        },
        "id": "aZpY9Jr074Ob",
        "outputId": "92bef13b-391c-4c5a-d6af-84d714dc6ff5"
      },
      "execution_count": 30,
      "outputs": [
        {
          "output_type": "stream",
          "name": "stdout",
          "text": [
            "Epoch 1/4\n",
            "477/477 [==============================] - 31s 62ms/step - loss: -2446852620288.0000 - accuracy: 0.3305 - val_loss: -13246124785664.0000 - val_accuracy: 0.3305\n",
            "Epoch 2/4\n",
            "477/477 [==============================] - 30s 62ms/step - loss: -85782920429568.0000 - accuracy: 0.3305 - val_loss: -220409249136640.0000 - val_accuracy: 0.3305\n",
            "Epoch 3/4\n",
            "477/477 [==============================] - 28s 58ms/step - loss: -549985359757312.0000 - accuracy: 0.3305 - val_loss: -1016889476120576.0000 - val_accuracy: 0.3305\n",
            "Epoch 4/4\n",
            "477/477 [==============================] - 28s 58ms/step - loss: -1832460010651648.0000 - accuracy: 0.3305 - val_loss: -2863713199587328.0000 - val_accuracy: 0.3305\n"
          ]
        },
        {
          "output_type": "execute_result",
          "data": {
            "text/plain": [
              "<keras.callbacks.History at 0x7ff70610b460>"
            ]
          },
          "metadata": {},
          "execution_count": 30
        }
      ]
    },
    {
      "cell_type": "code",
      "source": [
        "loss, accuracy = model.evaluate(test_generator)\n",
        "print(\"Test Loss:\", loss)\n",
        "print(\"Test Accuracy:\", accuracy)"
      ],
      "metadata": {
        "colab": {
          "base_uri": "https://localhost:8080/"
        },
        "id": "WInePaciB3Fo",
        "outputId": "ec8fae92-0173-4d4a-cf26-48cc1dcd67e6"
      },
      "execution_count": 31,
      "outputs": [
        {
          "output_type": "stream",
          "name": "stdout",
          "text": [
            "120/120 [==============================] - 12s 98ms/step - loss: 10094216478720.0000 - accuracy: 0.2500\n",
            "Test Loss: 10094216478720.0\n",
            "Test Accuracy: 0.25\n"
          ]
        }
      ]
    },
    {
      "cell_type": "code",
      "source": [
        "model = tf.keras.Sequential([\n",
        "    layers.Conv2D(32, (3, 3), activation='relu', input_shape=(224, 224, 3)),\n",
        "    layers.MaxPooling2D((2, 2)),\n",
        "    layers.Conv2D(64, (3, 3), activation='relu'),\n",
        "    layers.MaxPooling2D((2, 2)),\n",
        "    layers.Conv2D(128, (3, 3), activation='relu'),\n",
        "    layers.MaxPooling2D((2, 2)),\n",
        "    layers.Flatten(),\n",
        "    layers.Dense(128, activation='relu'),\n",
        "    layers.Dense(4, activation='softmax')  # Changed the number of units to match the number of classes\n",
        "])\n",
        "\n",
        "\n",
        "model.compile(optimizer='adam',\n",
        "              loss='categorical_crossentropy',\n",
        "              metrics=['accuracy'])\n",
        "\n",
        "# Prepare the dataset with data augmentation\n",
        "train_datagen = tf.keras.preprocessing.image.ImageDataGenerator(\n",
        "    rescale=1./255,  # Normalize pixel values\n",
        "    rotation_range=15,  # Randomly rotate images\n",
        "    width_shift_range=0.1,  # Randomly shift images horizontally\n",
        "    height_shift_range=0.1,  # Randomly shift images vertically\n",
        "    shear_range=0.1,  # Apply shear transformation\n",
        "    zoom_range=0.1,  # Apply zoom transformation\n",
        "    horizontal_flip=True  # Randomly flip images horizontally\n",
        ")\n",
        "\n",
        "test_datagen = tf.keras.preprocessing.image.ImageDataGenerator(rescale=1./255)\n",
        "\n",
        "train_generator = train_datagen.flow_from_directory(\n",
        "    train_path,\n",
        "    target_size=(224, 224),\n",
        "    batch_size=32,\n",
        "    class_mode='categorical'  # Set class_mode to 'categorical' for multi-class classification\n",
        ")\n",
        "\n",
        "test_generator = test_datagen.flow_from_directory(\n",
        "    test_path,\n",
        "    target_size=(224, 224),\n",
        "    batch_size=32,\n",
        "    class_mode='categorical'  # Set class_mode to 'categorical' for multi-class classification\n",
        ")"
      ],
      "metadata": {
        "colab": {
          "base_uri": "https://localhost:8080/"
        },
        "id": "4F6KwNK1BxNW",
        "outputId": "93b3d695-bf34-4f6d-cf2c-4f87224974e9"
      },
      "execution_count": 32,
      "outputs": [
        {
          "output_type": "stream",
          "name": "stdout",
          "text": [
            "Found 15264 images belonging to 4 classes.\n",
            "Found 3819 images belonging to 4 classes.\n"
          ]
        }
      ]
    },
    {
      "cell_type": "code",
      "source": [
        "model.fit(train_generator, validation_data=test_generator, epochs=20)"
      ],
      "metadata": {
        "colab": {
          "base_uri": "https://localhost:8080/"
        },
        "id": "--4soOA4B5gI",
        "outputId": "2b59c201-e704-4075-d20f-df8707da0f9c"
      },
      "execution_count": 33,
      "outputs": [
        {
          "output_type": "stream",
          "name": "stdout",
          "text": [
            "Epoch 1/20\n",
            "477/477 [==============================] - 204s 423ms/step - loss: 0.9691 - accuracy: 0.5688 - val_loss: 0.8388 - val_accuracy: 0.6444\n",
            "Epoch 2/20\n",
            "477/477 [==============================] - 201s 422ms/step - loss: 0.7989 - accuracy: 0.6547 - val_loss: 0.6628 - val_accuracy: 0.7340\n",
            "Epoch 3/20\n",
            "477/477 [==============================] - 201s 422ms/step - loss: 0.6866 - accuracy: 0.7148 - val_loss: 0.5816 - val_accuracy: 0.7690\n",
            "Epoch 4/20\n",
            "477/477 [==============================] - 201s 421ms/step - loss: 0.5925 - accuracy: 0.7615 - val_loss: 0.4907 - val_accuracy: 0.8104\n",
            "Epoch 5/20\n",
            "477/477 [==============================] - 203s 425ms/step - loss: 0.5157 - accuracy: 0.7976 - val_loss: 0.4719 - val_accuracy: 0.8128\n",
            "Epoch 6/20\n",
            "477/477 [==============================] - 201s 422ms/step - loss: 0.4687 - accuracy: 0.8141 - val_loss: 0.4639 - val_accuracy: 0.8230\n",
            "Epoch 7/20\n",
            "477/477 [==============================] - 202s 424ms/step - loss: 0.4215 - accuracy: 0.8346 - val_loss: 0.4407 - val_accuracy: 0.8264\n",
            "Epoch 8/20\n",
            "477/477 [==============================] - 203s 426ms/step - loss: 0.3945 - accuracy: 0.8449 - val_loss: 0.4301 - val_accuracy: 0.8282\n",
            "Epoch 9/20\n",
            "477/477 [==============================] - 201s 422ms/step - loss: 0.3770 - accuracy: 0.8497 - val_loss: 0.4369 - val_accuracy: 0.8235\n",
            "Epoch 10/20\n",
            "477/477 [==============================] - 203s 426ms/step - loss: 0.3442 - accuracy: 0.8651 - val_loss: 0.3406 - val_accuracy: 0.8641\n",
            "Epoch 11/20\n",
            "477/477 [==============================] - 204s 427ms/step - loss: 0.3337 - accuracy: 0.8717 - val_loss: 0.3004 - val_accuracy: 0.8772\n",
            "Epoch 12/20\n",
            "477/477 [==============================] - 200s 419ms/step - loss: 0.3219 - accuracy: 0.8750 - val_loss: 0.3295 - val_accuracy: 0.8706\n",
            "Epoch 13/20\n",
            "477/477 [==============================] - 203s 426ms/step - loss: 0.2949 - accuracy: 0.8855 - val_loss: 0.3095 - val_accuracy: 0.8790\n",
            "Epoch 14/20\n",
            "477/477 [==============================] - 204s 427ms/step - loss: 0.2846 - accuracy: 0.8898 - val_loss: 0.2694 - val_accuracy: 0.8971\n",
            "Epoch 15/20\n",
            "477/477 [==============================] - 208s 437ms/step - loss: 0.2715 - accuracy: 0.8946 - val_loss: 0.2401 - val_accuracy: 0.9076\n",
            "Epoch 16/20\n",
            "477/477 [==============================] - 204s 427ms/step - loss: 0.2592 - accuracy: 0.9015 - val_loss: 0.2961 - val_accuracy: 0.8934\n",
            "Epoch 17/20\n",
            "477/477 [==============================] - 203s 425ms/step - loss: 0.2518 - accuracy: 0.9021 - val_loss: 0.2520 - val_accuracy: 0.9070\n",
            "Epoch 18/20\n",
            "477/477 [==============================] - 207s 434ms/step - loss: 0.2354 - accuracy: 0.9086 - val_loss: 0.2746 - val_accuracy: 0.9029\n",
            "Epoch 19/20\n",
            "477/477 [==============================] - 204s 429ms/step - loss: 0.2403 - accuracy: 0.9080 - val_loss: 0.2465 - val_accuracy: 0.9084\n",
            "Epoch 20/20\n",
            "477/477 [==============================] - 205s 429ms/step - loss: 0.2204 - accuracy: 0.9155 - val_loss: 0.2751 - val_accuracy: 0.8960\n"
          ]
        },
        {
          "output_type": "execute_result",
          "data": {
            "text/plain": [
              "<keras.callbacks.History at 0x7ff79f3abaf0>"
            ]
          },
          "metadata": {},
          "execution_count": 33
        }
      ]
    },
    {
      "cell_type": "code",
      "source": [
        "# Evaluate the model\n",
        "loss, accuracy = model.evaluate(test_generator)\n",
        "print(\"Test Loss:\", loss)\n",
        "print(\"Test Accuracy:\", accuracy)"
      ],
      "metadata": {
        "colab": {
          "base_uri": "https://localhost:8080/"
        },
        "id": "XrgB9ynKB62w",
        "outputId": "e0edfe5c-ed1d-4a93-e561-70b87b2940bb"
      },
      "execution_count": 45,
      "outputs": [
        {
          "output_type": "stream",
          "name": "stdout",
          "text": [
            "120/120 [==============================] - 9s 77ms/step - loss: 0.2751 - accuracy: 0.8960\n",
            "Test Loss: 0.2750990092754364\n",
            "Test Accuracy: 0.8960461020469666\n"
          ]
        }
      ]
    }
  ]
}